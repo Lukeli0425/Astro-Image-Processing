{
 "cells": [
  {
   "cell_type": "markdown",
   "metadata": {},
   "source": [
    "# Spectral Reduction\n",
    "\n",
    "This Jupyter notebook is based on part of a lesson taken from the Caltech GROWTH Summer School 2020. \\\n",
    "Modified by Sharon Xuesong Wang of THU ObsAstro, 2022.4.26\n",
    "\n",
    "## Objective\n",
    "\n",
    "Extract a 1-D spectrum from a 2-D image of a long-slit spectrum, determine wavelength solution, and then measure the redshift of the target.\n",
    "\n",
    "\n",
    "## Key steps\n",
    "- Define target and background apertures\n",
    "- Subtract the background contribution from the target aperture\n",
    "- Extract (sum) the counts in the background subtracted target aperture\n",
    "- Load in the wavelength solution\n",
    "- Plot the extracted 1-D spectrum\n",
    "\n",
    "\n",
    "## Required dependencies\n",
    "\n",
    "Please check that you can import the following python packages without any problem. If anyone is missing (likely specutils), please use `pip install <module>` in your terminal **or** the code block below to install it.\n",
    "\n",
    "* python 3\n",
    "* astropy\n",
    "* numpy\n",
    "* scipy\n",
    "* matplotlib\n",
    "* specutils\n",
    "\n"
   ]
  },
  {
   "cell_type": "code",
   "execution_count": null,
   "metadata": {},
   "outputs": [],
   "source": [
    "# Install the missing python package - You need internet to do this!\n",
    "import sys\n",
    "!{sys.executable} -m pip install specutils\n",
    "\n",
    "# Try Conda if pip doesn't work\n",
    "# !conda install --yes --prefix {sys.prefix} specutils"
   ]
  },
  {
   "cell_type": "code",
   "execution_count": null,
   "metadata": {},
   "outputs": [],
   "source": [
    "# python modules that we will use\n",
    "import os\n",
    "import numpy as np\n",
    "from astropy.io import fits\n",
    "from astropy.stats import sigma_clip\n",
    "from scipy.optimize import curve_fit\n",
    "from scipy.signal import find_peaks\n",
    "\n",
    "import specutils\n",
    "\n",
    "%matplotlib inline\n",
    "import matplotlib.pylab as plt"
   ]
  },
  {
   "cell_type": "code",
   "execution_count": null,
   "metadata": {},
   "outputs": [],
   "source": [
    "from platform import python_version\n",
    "assert python_version() >= '3.6', \"Python version 3.6 or greater is required for f-strings\"\n",
    "\n",
    "import scipy\n",
    "assert scipy.__version__ >= '1.4', \"scipy version 1.4 or higher is required for this module\""
   ]
  },
  {
   "cell_type": "code",
   "execution_count": null,
   "metadata": {},
   "outputs": [],
   "source": [
    "# change plotting defaults\n",
    "plt.rc('axes', labelsize=14)\n",
    "plt.rc('axes', labelweight='bold')\n",
    "plt.rc('axes', titlesize=16)\n",
    "plt.rc('axes', titleweight='bold')\n",
    "plt.rc('font', family='sans-serif')\n",
    "plt.rcParams['figure.figsize'] = (17, 7)"
   ]
  },
  {
   "cell_type": "code",
   "execution_count": null,
   "metadata": {},
   "outputs": [],
   "source": [
    "# where are the data located?\n",
    "cwd = os.getcwd()\n",
    "data_dir = os.path.join(cwd, '')"
   ]
  },
  {
   "cell_type": "markdown",
   "metadata": {},
   "source": [
    "## Load the 2-D science Frame"
   ]
  },
  {
   "cell_type": "markdown",
   "metadata": {},
   "source": [
    "Let's begin by looking at the 2D image of the science spectrum, `spec_sci.fits`."
   ]
  },
  {
   "cell_type": "code",
   "execution_count": null,
   "metadata": {},
   "outputs": [],
   "source": [
    "# load the 2D science image data\n",
    "image = fits.getdata(os.path.join(data_dir,'spec_sci.fits'))"
   ]
  },
  {
   "cell_type": "code",
   "execution_count": null,
   "metadata": {},
   "outputs": [],
   "source": [
    "# this is a helper function to display images in this notebook\n",
    "def show_image(image, lower=-1, upper=3, extent=None):\n",
    "    sample = sigma_clip(image)\n",
    "    vmin = sample.mean() + lower * sample.std()\n",
    "    vmax = sample.mean() + upper * sample.std()\n",
    "    plt.figure(figsize=(15, 3))\n",
    "    plt.imshow(image, origin='lower', cmap='gray', aspect='auto', vmin=vmin, vmax=vmax, extent=extent)\n",
    "    plt.xlabel('Column Number')\n",
    "    plt.ylabel('Row Number');"
   ]
  },
  {
   "cell_type": "code",
   "execution_count": null,
   "metadata": {},
   "outputs": [],
   "source": [
    "# display the image\n",
    "show_image(image)"
   ]
  },
  {
   "cell_type": "markdown",
   "metadata": {},
   "source": [
    "Take a look at the science image above. The supplied `spec_sci.fits` image is the red channel of a Keck/LRIS spectrum taken in 2014. The image has already been process to remove bias, and the image has been trimmed and rotated (what we will call \"rows\" are actually columns on the CCD). This science image is actually a combination of two individual exposures that has been filtered to remove **most** (but not quite all) cosmic ray events. \n",
    "\n",
    "Notice the vertical bands of light. These are the sky lines. The spectrum runs from about 5000 Angstroms on the left to about 10000 Angstroms on the right (you will determine the exact range below!). Notice that there is a significantly higher density of sky lines in the near infrared. \n",
    "\n",
    "Notice the two horizontal bands of light. The lower band is the target (a small galaxy), and the upper band is a second object in the slit. If you look closely at the lower band (the target trace), you will see a number of emission lines. You will use these to determine the target redshift."
   ]
  },
  {
   "cell_type": "markdown",
   "metadata": {},
   "source": [
    "## Determine which rows the target spans and which are background"
   ]
  },
  {
   "cell_type": "markdown",
   "metadata": {},
   "source": [
    "We need to know which rows in the 2D image contain light from the target and which rows we can use to set the sky background. Plot the average counts in each row and then use this plot to set `row1` and `row2` roughly to the rows where the target is significantly brighter than the background to define the target aperture. Then set `bgrow1` and `bgrow2` to define the aperture for the sky background."
   ]
  },
  {
   "cell_type": "code",
   "execution_count": null,
   "metadata": {},
   "outputs": [],
   "source": [
    "# Let's first figure out which axis you need to take a mean to check out the average counts in each row\n",
    "# in order to identify the row range for the source's spectrum\n",
    "\n",
    "# Try replace ??? with 0, or 1, what do you get?\n",
    "# Which one should you use? \n",
    "plt.plot(image.mean(axis=1))"
   ]
  },
  {
   "cell_type": "code",
   "execution_count": null,
   "metadata": {},
   "outputs": [],
   "source": [
    "# plot the average of each row vs. row number\n",
    "plt.plot(image.mean(axis=???))\n",
    "\n",
    "# Based on your plot for the average counts/brightness for each row \n",
    "# define the target aperture range\n",
    "row1, row2 = ???, ???\n",
    "plt.axvspan(row1, row2, color='k', alpha=0.1, label='target aperture')\n",
    "\n",
    "# define the background aperture\n",
    "# (it is best to have two bands--one on each side of the target aperture)\n",
    "bg_apertures = []\n",
    "bg_apertures.append((???, ???))\n",
    "bg_apertures.append((???, ???))\n",
    "for bgrow1, bgrow2 in bg_apertures:\n",
    "    plt.axvspan(bgrow1, bgrow2, color='r', alpha=0.1, label='background aperture')\n",
    "\n",
    "plt.legend();"
   ]
  },
  {
   "cell_type": "markdown",
   "metadata": {},
   "source": [
    "## Quick and dirty sky subtraction"
   ]
  },
  {
   "cell_type": "markdown",
   "metadata": {},
   "source": [
    "As with photometry, the target aperture will contain light from both the target and the sky, so we must subtraction the contribution from the sky background to obtain our target spectrum. An (imperfect) way to do this is to simply find the average value in each column of the background aperture and to subtract this value from the respective columns on the image."
   ]
  },
  {
   "cell_type": "code",
   "execution_count": null,
   "metadata": {},
   "outputs": [],
   "source": [
    "# create a mask to identify which pixels are *not* part of the background apertures\n",
    "mask = np.ones(image.shape, dtype=bool)\n",
    "for bgrow1, bgrow2 in bg_apertures:\n",
    "    mask[bgrow1:bgrow2, :] = False\n",
    "\n",
    "# use the mask to define a background image (as a numpy masked array)\n",
    "bgim = np.ma.array(image, mask=mask)\n",
    "\n",
    "# calculate the average value for each column in the background aperture\n",
    "bgspec = np.ma.mean(bgim, axis=???)\n",
    "\n",
    "# show the background subtracted target aperture\n",
    "# You don't need to show the entire image, but only the relevant rows for your target, how should you set it?\n",
    "bgsubim = image - bgspec\n",
    "show_image(bgsubim[???:???, :], upper=10)"
   ]
  },
  {
   "cell_type": "markdown",
   "metadata": {},
   "source": [
    "You should now see the faint continuum of the target with a number of bright emission lines. You may also notice significant residuals from the bright sky lines. There are better ways to remove the sky background more cleanly."
   ]
  },
  {
   "cell_type": "markdown",
   "metadata": {},
   "source": [
    "## Quick and dirty spectral extraction"
   ]
  },
  {
   "cell_type": "markdown",
   "metadata": {},
   "source": [
    "Now that we have a sky-subtracted image, we can take the sum of each column to extract our target spectrum."
   ]
  },
  {
   "cell_type": "code",
   "execution_count": null,
   "metadata": {},
   "outputs": [],
   "source": [
    "spec = np.sum(bgsubim[???:???, :], axis=???)\n",
    "plt.plot(spec)\n",
    "plt.xlabel('Column Number')\n",
    "plt.ylabel('Counts');"
   ]
  },
  {
   "cell_type": "markdown",
   "metadata": {},
   "source": [
    "You should see a strong emission line near the middle of the spectra, which is H-alpha, along with some weaker lines. Now we need to determine the observed wavelength of this line (this is often the hard part)."
   ]
  },
  {
   "cell_type": "markdown",
   "metadata": {},
   "source": [
    "## Determine the wavelength solution"
   ]
  },
  {
   "cell_type": "markdown",
   "metadata": {},
   "source": [
    "This is a pretty complicated process, so we will skip it for our practice. Instead, we will simply load the wavelength calibrated spectrum."
   ]
  },
  {
   "cell_type": "code",
   "execution_count": null,
   "metadata": {},
   "outputs": [],
   "source": [
    "# load the wavelength calibrated spectrum\n",
    "from astropy.io import ascii\n",
    "\n",
    "spec_data = ascii.read('galaxy_wavs_spec.csv')\n",
    "wavs = spec_data['col1']\n",
    "spec = spec_data['col2']"
   ]
  },
  {
   "cell_type": "code",
   "execution_count": null,
   "metadata": {},
   "outputs": [],
   "source": [
    "# Now plot the extracted 1-D spectrum with the x-axis being wavelengths in angstroms\n",
    "plt.plot(???)\n",
    "\n",
    "# Zoom in on the brightest emission line - that's the H alpha emission line\n",
    "plt.xlim(???, ???)\n",
    "plt.grid()\n",
    "\n",
    "# make a guess at the central wavelength\n",
    "obswav_guess = ???\n",
    "plt.axvline(obswav_guess, ls='dashed', c='k');"
   ]
  },
  {
   "cell_type": "code",
   "execution_count": null,
   "metadata": {},
   "outputs": [],
   "source": [
    "# use the known laboratory wavelength to estimate the redshift of this galaxy\n",
    "restwav = 6562.78\n",
    "redshift = ???"
   ]
  },
  {
   "cell_type": "markdown",
   "metadata": {},
   "source": [
    "We will determine the redshift of this galaxy in a more precise way in our next lecture.\\\n",
    "If you can't wait, please feel free to fit a gaussian function to the H alpha line to determine its redshift now."
   ]
  }
 ],
 "metadata": {
  "kernelspec": {
   "display_name": "Python 3 (ipykernel)",
   "language": "python",
   "name": "python3"
  },
  "language_info": {
   "codemirror_mode": {
    "name": "ipython",
    "version": 3
   },
   "file_extension": ".py",
   "mimetype": "text/x-python",
   "name": "python",
   "nbconvert_exporter": "python",
   "pygments_lexer": "ipython3",
   "version": "3.8.3"
  }
 },
 "nbformat": 4,
 "nbformat_minor": 2
}
